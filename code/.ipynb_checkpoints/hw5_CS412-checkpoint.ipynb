{
 "cells": [
  {
   "cell_type": "markdown",
   "metadata": {},
   "source": [
    "1. Data Cleaning:\n",
    "Convert non-numerical data into numerical data\n",
    "Filling missing data"
   ]
  },
  {
   "cell_type": "code",
   "execution_count": 1,
   "metadata": {
    "collapsed": true
   },
   "outputs": [],
   "source": [
    "import pandas as pd\n",
    "import numpy as np\n",
    "import math\n",
    "from sklearn.preprocessing import Imputer\n",
    "from sklearn.model_selection import train_test_split\n",
    "from matplotlib import pyplot as plt"
   ]
  },
  {
   "cell_type": "code",
   "execution_count": 2,
   "metadata": {},
   "outputs": [
    {
     "data": {
      "text/html": [
       "<div>\n",
       "<style>\n",
       "    .dataframe thead tr:only-child th {\n",
       "        text-align: right;\n",
       "    }\n",
       "\n",
       "    .dataframe thead th {\n",
       "        text-align: left;\n",
       "    }\n",
       "\n",
       "    .dataframe tbody tr th {\n",
       "        vertical-align: top;\n",
       "    }\n",
       "</style>\n",
       "<table border=\"1\" class=\"dataframe\">\n",
       "  <thead>\n",
       "    <tr style=\"text-align: right;\">\n",
       "      <th></th>\n",
       "      <th>Music</th>\n",
       "      <th>Slow songs or fast songs</th>\n",
       "      <th>Dance</th>\n",
       "      <th>Folk</th>\n",
       "      <th>Country</th>\n",
       "      <th>Classical music</th>\n",
       "      <th>Musical</th>\n",
       "      <th>Pop</th>\n",
       "      <th>Rock</th>\n",
       "      <th>Metal or Hardrock</th>\n",
       "      <th>...</th>\n",
       "      <th>Age</th>\n",
       "      <th>Height</th>\n",
       "      <th>Weight</th>\n",
       "      <th>Number of siblings</th>\n",
       "      <th>Gender</th>\n",
       "      <th>Left - right handed</th>\n",
       "      <th>Education</th>\n",
       "      <th>Only child</th>\n",
       "      <th>Village - town</th>\n",
       "      <th>House - block of flats</th>\n",
       "    </tr>\n",
       "  </thead>\n",
       "  <tbody>\n",
       "    <tr>\n",
       "      <th>0</th>\n",
       "      <td>5.0</td>\n",
       "      <td>3.0</td>\n",
       "      <td>2.0</td>\n",
       "      <td>1.0</td>\n",
       "      <td>2.0</td>\n",
       "      <td>2.0</td>\n",
       "      <td>1.0</td>\n",
       "      <td>5.0</td>\n",
       "      <td>5.0</td>\n",
       "      <td>1.0</td>\n",
       "      <td>...</td>\n",
       "      <td>20.0</td>\n",
       "      <td>163.0</td>\n",
       "      <td>48.0</td>\n",
       "      <td>1.0</td>\n",
       "      <td>female</td>\n",
       "      <td>right handed</td>\n",
       "      <td>college/bachelor degree</td>\n",
       "      <td>no</td>\n",
       "      <td>village</td>\n",
       "      <td>block of flats</td>\n",
       "    </tr>\n",
       "    <tr>\n",
       "      <th>1</th>\n",
       "      <td>4.0</td>\n",
       "      <td>4.0</td>\n",
       "      <td>2.0</td>\n",
       "      <td>1.0</td>\n",
       "      <td>1.0</td>\n",
       "      <td>1.0</td>\n",
       "      <td>2.0</td>\n",
       "      <td>3.0</td>\n",
       "      <td>5.0</td>\n",
       "      <td>4.0</td>\n",
       "      <td>...</td>\n",
       "      <td>19.0</td>\n",
       "      <td>163.0</td>\n",
       "      <td>58.0</td>\n",
       "      <td>2.0</td>\n",
       "      <td>female</td>\n",
       "      <td>right handed</td>\n",
       "      <td>college/bachelor degree</td>\n",
       "      <td>no</td>\n",
       "      <td>city</td>\n",
       "      <td>block of flats</td>\n",
       "    </tr>\n",
       "    <tr>\n",
       "      <th>2</th>\n",
       "      <td>5.0</td>\n",
       "      <td>5.0</td>\n",
       "      <td>2.0</td>\n",
       "      <td>2.0</td>\n",
       "      <td>3.0</td>\n",
       "      <td>4.0</td>\n",
       "      <td>5.0</td>\n",
       "      <td>3.0</td>\n",
       "      <td>5.0</td>\n",
       "      <td>3.0</td>\n",
       "      <td>...</td>\n",
       "      <td>20.0</td>\n",
       "      <td>176.0</td>\n",
       "      <td>67.0</td>\n",
       "      <td>2.0</td>\n",
       "      <td>female</td>\n",
       "      <td>right handed</td>\n",
       "      <td>secondary school</td>\n",
       "      <td>no</td>\n",
       "      <td>city</td>\n",
       "      <td>block of flats</td>\n",
       "    </tr>\n",
       "    <tr>\n",
       "      <th>3</th>\n",
       "      <td>5.0</td>\n",
       "      <td>3.0</td>\n",
       "      <td>2.0</td>\n",
       "      <td>1.0</td>\n",
       "      <td>1.0</td>\n",
       "      <td>1.0</td>\n",
       "      <td>1.0</td>\n",
       "      <td>2.0</td>\n",
       "      <td>2.0</td>\n",
       "      <td>1.0</td>\n",
       "      <td>...</td>\n",
       "      <td>22.0</td>\n",
       "      <td>172.0</td>\n",
       "      <td>59.0</td>\n",
       "      <td>1.0</td>\n",
       "      <td>female</td>\n",
       "      <td>right handed</td>\n",
       "      <td>college/bachelor degree</td>\n",
       "      <td>yes</td>\n",
       "      <td>city</td>\n",
       "      <td>house/bungalow</td>\n",
       "    </tr>\n",
       "    <tr>\n",
       "      <th>4</th>\n",
       "      <td>5.0</td>\n",
       "      <td>3.0</td>\n",
       "      <td>4.0</td>\n",
       "      <td>3.0</td>\n",
       "      <td>2.0</td>\n",
       "      <td>4.0</td>\n",
       "      <td>3.0</td>\n",
       "      <td>5.0</td>\n",
       "      <td>3.0</td>\n",
       "      <td>1.0</td>\n",
       "      <td>...</td>\n",
       "      <td>20.0</td>\n",
       "      <td>170.0</td>\n",
       "      <td>59.0</td>\n",
       "      <td>1.0</td>\n",
       "      <td>female</td>\n",
       "      <td>right handed</td>\n",
       "      <td>secondary school</td>\n",
       "      <td>no</td>\n",
       "      <td>village</td>\n",
       "      <td>house/bungalow</td>\n",
       "    </tr>\n",
       "  </tbody>\n",
       "</table>\n",
       "<p>5 rows × 150 columns</p>\n",
       "</div>"
      ],
      "text/plain": [
       "   Music  Slow songs or fast songs  Dance  Folk  Country  Classical music  \\\n",
       "0    5.0                       3.0    2.0   1.0      2.0              2.0   \n",
       "1    4.0                       4.0    2.0   1.0      1.0              1.0   \n",
       "2    5.0                       5.0    2.0   2.0      3.0              4.0   \n",
       "3    5.0                       3.0    2.0   1.0      1.0              1.0   \n",
       "4    5.0                       3.0    4.0   3.0      2.0              4.0   \n",
       "\n",
       "   Musical  Pop  Rock  Metal or Hardrock           ...             Age  \\\n",
       "0      1.0  5.0   5.0                1.0           ...            20.0   \n",
       "1      2.0  3.0   5.0                4.0           ...            19.0   \n",
       "2      5.0  3.0   5.0                3.0           ...            20.0   \n",
       "3      1.0  2.0   2.0                1.0           ...            22.0   \n",
       "4      3.0  5.0   3.0                1.0           ...            20.0   \n",
       "\n",
       "   Height  Weight  Number of siblings  Gender  Left - right handed  \\\n",
       "0   163.0    48.0                 1.0  female         right handed   \n",
       "1   163.0    58.0                 2.0  female         right handed   \n",
       "2   176.0    67.0                 2.0  female         right handed   \n",
       "3   172.0    59.0                 1.0  female         right handed   \n",
       "4   170.0    59.0                 1.0  female         right handed   \n",
       "\n",
       "                 Education  Only child  Village - town  House - block of flats  \n",
       "0  college/bachelor degree          no         village          block of flats  \n",
       "1  college/bachelor degree          no            city          block of flats  \n",
       "2         secondary school          no            city          block of flats  \n",
       "3  college/bachelor degree         yes            city          house/bungalow  \n",
       "4         secondary school          no         village          house/bungalow  \n",
       "\n",
       "[5 rows x 150 columns]"
      ]
     },
     "execution_count": 2,
     "metadata": {},
     "output_type": "execute_result"
    }
   ],
   "source": [
    "data = pd.read_csv(\"../data/responses.csv\")\n",
    "data.head()\n"
   ]
  },
  {
   "cell_type": "code",
   "execution_count": 48,
   "metadata": {},
   "outputs": [
    {
     "data": {
      "text/plain": [
       "(1010, 150)"
      ]
     },
     "execution_count": 48,
     "metadata": {},
     "output_type": "execute_result"
    }
   ],
   "source": [
    "data.shape"
   ]
  },
  {
   "cell_type": "code",
   "execution_count": 3,
   "metadata": {},
   "outputs": [
    {
     "data": {
      "text/plain": [
       "array(['never smoked', 'tried smoking', 'former smoker', 'current smoker',\n",
       "       nan], dtype=object)"
      ]
     },
     "execution_count": 3,
     "metadata": {},
     "output_type": "execute_result"
    }
   ],
   "source": [
    "# get unique values for feature \"Smoking\"\n",
    "freq_smoking = data[\"Smoking\"].unique()\n",
    "freq_smoking"
   ]
  },
  {
   "cell_type": "code",
   "execution_count": 4,
   "metadata": {
    "collapsed": true
   },
   "outputs": [],
   "source": [
    "# Convert string to numerical numbers\n",
    "for row in data.itertuples():\n",
    "    if data.loc[row.Index,'Smoking'] == 'never smoked':\n",
    "        data.loc[row.Index,'Smoking'] = 1.0\n",
    "    elif data.loc[row.Index,'Smoking'] == 'tried smoking':\n",
    "        data.loc[row.Index,'Smoking'] = 2.0\n",
    "    elif data.loc[row.Index,'Smoking'] == 'former smoker':\n",
    "        data.loc[row.Index,'Smoking'] = 3.0\n",
    "    elif data.loc[row.Index,'Smoking'] == 'current smoker':\n",
    "        data.loc[row.Index,'Smoking'] = 4.0"
   ]
  },
  {
   "cell_type": "code",
   "execution_count": 5,
   "metadata": {},
   "outputs": [
    {
     "data": {
      "text/plain": [
       "(1010,)"
      ]
     },
     "execution_count": 5,
     "metadata": {},
     "output_type": "execute_result"
    }
   ],
   "source": [
    "data[\"Smoking\"].shape\n"
   ]
  },
  {
   "cell_type": "code",
   "execution_count": 6,
   "metadata": {},
   "outputs": [
    {
     "data": {
      "text/plain": [
       "array(['drink a lot', 'social drinker', 'never', nan], dtype=object)"
      ]
     },
     "execution_count": 6,
     "metadata": {},
     "output_type": "execute_result"
    }
   ],
   "source": [
    "# get unique values for feature \"Alcohol\"\n",
    "freq_drinking = data[\"Alcohol\"].unique()\n",
    "freq_drinking"
   ]
  },
  {
   "cell_type": "code",
   "execution_count": 7,
   "metadata": {
    "collapsed": true
   },
   "outputs": [],
   "source": [
    "# Convert string to numerical numbers\n",
    "for row in data.itertuples():\n",
    "    if data.loc[row.Index,'Alcohol'] == 'never':\n",
    "        data.loc[row.Index,'Alcohol'] = 1.0\n",
    "    elif data.loc[row.Index,'Alcohol'] == 'social drinker':\n",
    "        data.loc[row.Index,'Alcohol'] = 2.0\n",
    "    elif data.loc[row.Index,'Alcohol'] == 'drink a lot':\n",
    "        data.loc[row.Index,'Alcohol'] = 3.0\n",
    "    "
   ]
  },
  {
   "cell_type": "code",
   "execution_count": 54,
   "metadata": {},
   "outputs": [
    {
     "data": {
      "text/plain": [
       "(1010,)"
      ]
     },
     "execution_count": 54,
     "metadata": {},
     "output_type": "execute_result"
    }
   ],
   "source": [
    "data[\"Alcohol\"].shape"
   ]
  },
  {
   "cell_type": "code",
   "execution_count": 8,
   "metadata": {},
   "outputs": [
    {
     "data": {
      "text/plain": [
       "array(['i am always on time', 'i am often early',\n",
       "       'i am often running late', nan], dtype=object)"
      ]
     },
     "execution_count": 8,
     "metadata": {},
     "output_type": "execute_result"
    }
   ],
   "source": [
    "# get unique values for feature \"Alcohol\"\n",
    "punctuality = data[\"Punctuality\"].unique()\n",
    "punctuality"
   ]
  },
  {
   "cell_type": "code",
   "execution_count": 9,
   "metadata": {
    "collapsed": true
   },
   "outputs": [],
   "source": [
    "# Convert string to numerical numbers\n",
    "for row in data.itertuples():\n",
    "    if data.loc[row.Index,'Punctuality'] == 'i am often running late':\n",
    "        data.loc[row.Index,'Punctuality'] = 1.0\n",
    "    elif data.loc[row.Index,'Punctuality'] == 'i am always on time':\n",
    "        data.loc[row.Index,'Punctuality'] = 2.0\n",
    "    elif data.loc[row.Index,'Punctuality'] == 'i am often early':\n",
    "        data.loc[row.Index,'Punctuality'] = 3.0"
   ]
  },
  {
   "cell_type": "code",
   "execution_count": null,
   "metadata": {
    "collapsed": true
   },
   "outputs": [],
   "source": [
    "data[\"Punctuality\"]"
   ]
  },
  {
   "cell_type": "code",
   "execution_count": 10,
   "metadata": {},
   "outputs": [
    {
     "data": {
      "text/plain": [
       "array(['never', 'sometimes', 'only to avoid hurting someone',\n",
       "       'everytime it suits me', nan], dtype=object)"
      ]
     },
     "execution_count": 10,
     "metadata": {},
     "output_type": "execute_result"
    }
   ],
   "source": [
    "# get unique values for feature \"Lying\"\n",
    "Lying = data[\"Lying\"].unique()\n",
    "Lying"
   ]
  },
  {
   "cell_type": "code",
   "execution_count": 11,
   "metadata": {
    "collapsed": true
   },
   "outputs": [],
   "source": [
    "# Convert string to numerical numbers\n",
    "for row in data.itertuples():\n",
    "    if data.loc[row.Index,'Lying'] == 'never':\n",
    "        data.loc[row.Index,'Lying'] = 1.0\n",
    "    elif data.loc[row.Index,'Lying'] == 'only to avoid hurting someone':\n",
    "        data.loc[row.Index,'Lying'] = 2.0\n",
    "    elif data.loc[row.Index,'Lying'] == 'sometimes':\n",
    "        data.loc[row.Index,'Lying'] = 3.0\n",
    "    elif data.loc[row.Index,'Lying'] == 'everytime it suits me':\n",
    "        data.loc[row.Index,'Lying'] = 4.0"
   ]
  },
  {
   "cell_type": "code",
   "execution_count": null,
   "metadata": {
    "collapsed": true
   },
   "outputs": [],
   "source": [
    "data[\"Lying\"]"
   ]
  },
  {
   "cell_type": "code",
   "execution_count": 12,
   "metadata": {},
   "outputs": [
    {
     "data": {
      "text/plain": [
       "array(['few hours a day', 'most of the day', 'less than an hour a day',\n",
       "       'no time at all'], dtype=object)"
      ]
     },
     "execution_count": 12,
     "metadata": {},
     "output_type": "execute_result"
    }
   ],
   "source": [
    "# get unique values for feature \"Lying\"\n",
    "Int_usage = data[\"Internet usage\"].unique()\n",
    "Int_usage"
   ]
  },
  {
   "cell_type": "code",
   "execution_count": 13,
   "metadata": {
    "collapsed": true
   },
   "outputs": [],
   "source": [
    "# Convert string to numerical numbers\n",
    "for row in data.itertuples():\n",
    "    if data.loc[row.Index,'Internet usage'] == 'no time at all':\n",
    "        data.loc[row.Index,'Internet usage'] = 1.0\n",
    "    elif data.loc[row.Index,'Internet usage'] == 'less than an hour a day':\n",
    "        data.loc[row.Index,'Internet usage'] = 2.0\n",
    "    elif data.loc[row.Index,'Internet usage'] == 'few hours a day':\n",
    "        data.loc[row.Index,'Internet usage'] = 3.0\n",
    "    elif data.loc[row.Index,'Internet usage'] == 'most of the day':\n",
    "        data.loc[row.Index,'Internet usage'] = 4.0"
   ]
  },
  {
   "cell_type": "code",
   "execution_count": null,
   "metadata": {
    "collapsed": true
   },
   "outputs": [],
   "source": [
    "data[\"Internet usage\"]"
   ]
  },
  {
   "cell_type": "code",
   "execution_count": 14,
   "metadata": {},
   "outputs": [
    {
     "data": {
      "text/plain": [
       "array(['female', 'male', nan], dtype=object)"
      ]
     },
     "execution_count": 14,
     "metadata": {},
     "output_type": "execute_result"
    }
   ],
   "source": [
    "# get unique values for feature \"Lying\"\n",
    "gender = data[\"Gender\"].unique()\n",
    "gender"
   ]
  },
  {
   "cell_type": "code",
   "execution_count": 15,
   "metadata": {
    "collapsed": true
   },
   "outputs": [],
   "source": [
    "for row in data.itertuples():\n",
    "    if data.loc[row.Index,'Gender'] == 'female':\n",
    "        data.loc[row.Index,'Gender'] = 1.0\n",
    "    elif data.loc[row.Index,'Gender'] == 'male':\n",
    "        data.loc[row.Index,'Gender'] = 2.0\n",
    "    "
   ]
  },
  {
   "cell_type": "code",
   "execution_count": 71,
   "metadata": {},
   "outputs": [
    {
     "data": {
      "text/plain": [
       "(1010,)"
      ]
     },
     "execution_count": 71,
     "metadata": {},
     "output_type": "execute_result"
    }
   ],
   "source": [
    "data[\"Gender\"].shape"
   ]
  },
  {
   "cell_type": "code",
   "execution_count": 16,
   "metadata": {},
   "outputs": [
    {
     "data": {
      "text/plain": [
       "array(['right handed', 'left handed', nan], dtype=object)"
      ]
     },
     "execution_count": 16,
     "metadata": {},
     "output_type": "execute_result"
    }
   ],
   "source": [
    "hand_orien = data[\"Left - right handed\"].unique()\n",
    "hand_orien"
   ]
  },
  {
   "cell_type": "code",
   "execution_count": 17,
   "metadata": {
    "collapsed": true
   },
   "outputs": [],
   "source": [
    "for row in data.itertuples():\n",
    "    if data.loc[row.Index,'Left - right handed'] == 'right handed':\n",
    "        data.loc[row.Index,'Left - right handed'] = 1.0\n",
    "    elif data.loc[row.Index,'Left - right handed'] == 'left handed':\n",
    "        data.loc[row.Index,'Left - right handed'] = 2.0\n",
    "    "
   ]
  },
  {
   "cell_type": "code",
   "execution_count": null,
   "metadata": {
    "collapsed": true
   },
   "outputs": [],
   "source": [
    "data[\"Left - right handed\"]"
   ]
  },
  {
   "cell_type": "code",
   "execution_count": 18,
   "metadata": {
    "scrolled": true
   },
   "outputs": [
    {
     "data": {
      "text/plain": [
       "array(['college/bachelor degree', 'secondary school', 'primary school',\n",
       "       'masters degree', 'doctorate degree',\n",
       "       'currently a primary school pupil', nan], dtype=object)"
      ]
     },
     "execution_count": 18,
     "metadata": {},
     "output_type": "execute_result"
    }
   ],
   "source": [
    "edu = data[\"Education\"].unique()\n",
    "edu"
   ]
  },
  {
   "cell_type": "code",
   "execution_count": 19,
   "metadata": {
    "collapsed": true
   },
   "outputs": [],
   "source": [
    "for row in data.itertuples():\n",
    "    if data.loc[row.Index,'Education'] == 'currently a primary school pupil':\n",
    "        data.loc[row.Index,'Education'] = 1.0\n",
    "    elif data.loc[row.Index,'Education'] == 'primary school':\n",
    "        data.loc[row.Index,'Education'] = 2.0\n",
    "    elif data.loc[row.Index,'Education'] == 'secondary school':\n",
    "        data.loc[row.Index,'Education'] = 3.0\n",
    "    elif data.loc[row.Index,'Education'] == 'college/bachelor degree':\n",
    "        data.loc[row.Index,'Education'] = 4.0\n",
    "    elif data.loc[row.Index,'Education'] == 'masters degree':\n",
    "        data.loc[row.Index,'Education'] = 5.0\n",
    "    elif data.loc[row.Index,'Education'] == 'doctorate degree':\n",
    "        data.loc[row.Index,'Education'] = 6.0\n",
    "  "
   ]
  },
  {
   "cell_type": "code",
   "execution_count": null,
   "metadata": {
    "collapsed": true
   },
   "outputs": [],
   "source": [
    "data[\"Education\"]"
   ]
  },
  {
   "cell_type": "code",
   "execution_count": 20,
   "metadata": {},
   "outputs": [
    {
     "data": {
      "text/plain": [
       "array(['no', 'yes', nan], dtype=object)"
      ]
     },
     "execution_count": 20,
     "metadata": {},
     "output_type": "execute_result"
    }
   ],
   "source": [
    "child = data[\"Only child\"].unique()\n",
    "child"
   ]
  },
  {
   "cell_type": "code",
   "execution_count": 21,
   "metadata": {
    "collapsed": true
   },
   "outputs": [],
   "source": [
    "for row in data.itertuples():\n",
    "    if data.loc[row.Index,'Only child'] == 'yes':\n",
    "        data.loc[row.Index,'Only child'] = 1.0\n",
    "    elif data.loc[row.Index,'Only child'] == 'no':\n",
    "        data.loc[row.Index,'Only child'] = 2.0\n",
    "    "
   ]
  },
  {
   "cell_type": "code",
   "execution_count": null,
   "metadata": {
    "collapsed": true
   },
   "outputs": [],
   "source": [
    "data[\"Only child\"]"
   ]
  },
  {
   "cell_type": "code",
   "execution_count": 22,
   "metadata": {},
   "outputs": [
    {
     "data": {
      "text/plain": [
       "array(['village', 'city', nan], dtype=object)"
      ]
     },
     "execution_count": 22,
     "metadata": {},
     "output_type": "execute_result"
    }
   ],
   "source": [
    "place = data[\"Village - town\"].unique()\n",
    "place"
   ]
  },
  {
   "cell_type": "code",
   "execution_count": 23,
   "metadata": {
    "collapsed": true
   },
   "outputs": [],
   "source": [
    "for row in data.itertuples():\n",
    "    if data.loc[row.Index,'Village - town'] == 'village':\n",
    "        data.loc[row.Index,'Village - town'] = 1.0\n",
    "    elif data.loc[row.Index,'Village - town'] == 'city':\n",
    "        data.loc[row.Index,'Village - town'] = 2.0"
   ]
  },
  {
   "cell_type": "code",
   "execution_count": 87,
   "metadata": {},
   "outputs": [
    {
     "data": {
      "text/plain": [
       "(1010,)"
      ]
     },
     "execution_count": 87,
     "metadata": {},
     "output_type": "execute_result"
    }
   ],
   "source": [
    "data[\"Village - town\"].shape"
   ]
  },
  {
   "cell_type": "code",
   "execution_count": 24,
   "metadata": {},
   "outputs": [
    {
     "data": {
      "text/plain": [
       "array(['block of flats', 'house/bungalow', nan], dtype=object)"
      ]
     },
     "execution_count": 24,
     "metadata": {},
     "output_type": "execute_result"
    }
   ],
   "source": [
    "house = data[\"House - block of flats\"].unique()\n",
    "house"
   ]
  },
  {
   "cell_type": "code",
   "execution_count": 25,
   "metadata": {
    "collapsed": true
   },
   "outputs": [],
   "source": [
    "for row in data.itertuples():\n",
    "    if data.loc[row.Index,'House - block of flats'] == 'block of flats':\n",
    "        data.loc[row.Index,'House - block of flats'] = 1.0\n",
    "    elif data.loc[row.Index,'House - block of flats'] == 'house/bungalow':\n",
    "        data.loc[row.Index,'House - block of flats'] = 2.0"
   ]
  },
  {
   "cell_type": "code",
   "execution_count": null,
   "metadata": {
    "collapsed": true
   },
   "outputs": [],
   "source": [
    "data[\"House - block of flats\"]"
   ]
  },
  {
   "cell_type": "code",
   "execution_count": 26,
   "metadata": {
    "collapsed": true
   },
   "outputs": [],
   "source": [
    "# fill missing data with most frequent value\n",
    "data = data.replace(\"nan\", np.nan)\n",
    "data = data.replace(\"NaN\", np.nan)\n",
    "imp = Imputer(missing_values='NaN', strategy='most_frequent', axis=0)\n",
    "imp.fit(data)\n",
    "data_trans = imp.transform(data)\n",
    "data = pd.DataFrame(data=data_trans[:,:], index=[i for i in range(len(data_trans))], \n",
    "                    columns=data.columns.tolist())\n"
   ]
  },
  {
   "cell_type": "markdown",
   "metadata": {},
   "source": [
    "2 Feature Engineering:\n",
    "\n",
    "Some feature is not so indicative. We make new features which are more indicative than original features.For example, BMI is a better indication for people's fittness than weight and height. We can get the formula to compute BMI by refering to the following link:\n",
    "https://www.thecalculatorsite.com/articles/health/bmi-formula-for-bmi-calculations.php\n",
    "\n",
    "We also make new features like \"music\", \"movie\", \"fitness\", \"expenditure\".\n"
   ]
  },
  {
   "cell_type": "code",
   "execution_count": 27,
   "metadata": {
    "collapsed": true
   },
   "outputs": [],
   "source": [
    "# create feature BMI\n",
    "hwc = list(zip(data[\"Height\"], data[\"Weight\"]))\n",
    "bmi = []\n",
    "for h, w in hwc:\n",
    "    if(str(h) == \"nan\" or str(w) == \"nan\"):\n",
    "        bmi.append(\"nan\")\n",
    "    ret = float(w/math.pow(h/100, 2))\n",
    "    bmi.append(ret)"
   ]
  },
  {
   "cell_type": "code",
   "execution_count": 28,
   "metadata": {
    "collapsed": true
   },
   "outputs": [],
   "source": [
    "data[\"BMI\"] = bmi"
   ]
  },
  {
   "cell_type": "code",
   "execution_count": 29,
   "metadata": {
    "collapsed": true
   },
   "outputs": [],
   "source": [
    "# Convert BMI to bins\n",
    "for row in data.itertuples():\n",
    "    if str(data.loc[row.Index,'BMI']) == 'nan':\n",
    "        continue\n",
    "    elif data.loc[row.Index,'BMI'] < 18.5:\n",
    "        data.loc[row.Index,'BMI'] = 1.0\n",
    "    elif data.loc[row.Index,'BMI'] < 25.0:\n",
    "        data.loc[row.Index,'BMI'] = 2.0\n",
    "    elif data.loc[row.Index,'BMI'] < 30.0:\n",
    "        data.loc[row.Index,'BMI'] = 3.0\n",
    "    elif data.loc[row.Index,'BMI'] < 35.0:\n",
    "        data.loc[row.Index,'BMI'] = 4.0\n",
    "    elif data.loc[row.Index,'BMI'] >= 35.0:\n",
    "        data.loc[row.Index,'BMI'] = 5.0\n"
   ]
  },
  {
   "cell_type": "code",
   "execution_count": 30,
   "metadata": {
    "collapsed": true
   },
   "outputs": [],
   "source": [
    "# drop \"Height\" and \"Weight\" columns\n",
    "data = data.drop(['Height', 'Weight'], axis=1)"
   ]
  },
  {
   "cell_type": "code",
   "execution_count": 31,
   "metadata": {
    "collapsed": true
   },
   "outputs": [],
   "source": [
    "# Convert Age to bins\n",
    "for row in data.itertuples():\n",
    "    if str(data.loc[row.Index,'Age']) == 'nan':\n",
    "        continue\n",
    "    elif data.loc[row.Index,'Age'] <= 18:\n",
    "        data.loc[row.Index,'Age'] = 1.0\n",
    "    elif data.loc[row.Index,'Age'] <= 23.0:\n",
    "        data.loc[row.Index,'Age'] = 2.0\n",
    "    elif data.loc[row.Index,'Age'] <= 27.0:\n",
    "        data.loc[row.Index,'Age'] = 3.0\n",
    "    elif data.loc[row.Index,'Age'] <= 30.0:\n",
    "        data.loc[row.Index,'Age'] = 4.0"
   ]
  },
  {
   "cell_type": "code",
   "execution_count": 32,
   "metadata": {
    "collapsed": true
   },
   "outputs": [],
   "source": [
    "# create feature music: asemble of original features realted with music\n",
    "# sum the preference of users for each kind of music to indicate their preference of music\n",
    "music = data[['Music', 'Slow songs or fast songs', 'Dance', 'Folk', 'Country', \n",
    "            'Classical music', 'Musical', 'Pop', 'Rock', 'Metal or Hardrock',\n",
    "             'Punk', 'Hiphop, Rap', 'Reggae, Ska', 'Swing, Jazz', 'Rock n roll', 'Alternative',\n",
    "             'Latino', 'Techno, Trance', 'Opera']]\n",
    "data['music'] = music.sum(axis=1)\n",
    "data = data.drop(['Music', 'Slow songs or fast songs', 'Dance', 'Folk', 'Country', \n",
    "            'Classical music', 'Musical', 'Pop', 'Rock', 'Metal or Hardrock',\n",
    "             'Punk', 'Hiphop, Rap', 'Reggae, Ska', 'Swing, Jazz', 'Rock n roll', 'Alternative',\n",
    "             'Latino', 'Techno, Trance', 'Opera'], axis=1)"
   ]
  },
  {
   "cell_type": "code",
   "execution_count": 33,
   "metadata": {
    "collapsed": true
   },
   "outputs": [],
   "source": [
    "# create feature movie: asemble of original features realted with movie\n",
    "# sum the preference of users for each kind of movie to indicate their preference of movie\n",
    "movie = data[['Movies', 'Horror', 'Thriller', 'Comedy', 'Romantic', \n",
    "            'Sci-fi', 'War', 'Fantasy/Fairy tales', 'Animated', 'Documentary',\n",
    "             'Western', 'Action']]\n",
    "data['movie'] = movie.sum(axis=1)\n",
    "data = data.drop(['Movies', 'Horror', 'Thriller', 'Comedy', 'Romantic', \n",
    "            'Sci-fi', 'War', 'Fantasy/Fairy tales', 'Animated', 'Documentary',\n",
    "             'Western', 'Action'], axis=1)\n"
   ]
  },
  {
   "cell_type": "code",
   "execution_count": 34,
   "metadata": {
    "collapsed": true
   },
   "outputs": [],
   "source": [
    "# create feature fitness: asemble of original features realted with fitness\n",
    "# fitness = data['Healthy eating'] / (data['Smoking'] * data['Alcohol'])\n",
    "fitness = data[['Smoking', 'Alcohol', 'Healthy eating']]\n",
    "fit = []\n",
    "for row in data.itertuples():\n",
    "    if str(data.loc[row.Index,'Smoking']) == 'nan' or str(data.loc[row.Index,'Alcohol']) == 'nan' or str(data.loc[row.Index,'Healthy eating']) == 'nan':\n",
    "        fit.append(\"nan\")\n",
    "    val = data.loc[row.Index,'Healthy eating'] / (data.loc[row.Index,'Smoking'] * \n",
    "                                                  data.loc[row.Index,'Alcohol'])\n",
    "    fit.append(val)\n",
    "data[\"fitness\"] = fit\n",
    "data = data.drop(['Smoking', 'Alcohol', 'Healthy eating'], axis=1)"
   ]
  },
  {
   "cell_type": "code",
   "execution_count": 35,
   "metadata": {
    "collapsed": true
   },
   "outputs": [],
   "source": [
    "# create feature expenditure: asemble of original features realted with expenditure\n",
    "# sum of spending for shopping centres, Entertainment, looks, gadgets\n",
    "expenditure = data[['Shopping centres', 'Entertainment spending', 'Spending on looks',\n",
    "               'Spending on gadgets', 'Spending on healthy eating']]\n",
    "data['expenditure'] = expenditure.sum(axis=1)\n",
    "data = data.drop(['Shopping centres', 'Entertainment spending', 'Spending on looks',\n",
    "               'Spending on gadgets', 'Spending on healthy eating'], axis=1)"
   ]
  },
  {
   "cell_type": "markdown",
   "metadata": {},
   "source": [
    "3. Data Split:\n",
    "we split the data into training data(60%), development data(20%), and test data(20%)."
   ]
  },
  {
   "cell_type": "code",
   "execution_count": 36,
   "metadata": {
    "collapsed": true
   },
   "outputs": [],
   "source": [
    "# split the data into training set, development set and test set with 0.6, 0.2, 0.2\n",
    "Y = data[\"Empathy\"]\n",
    "X = data.drop(['Empathy'], axis=1)\n",
    "X, X_te, Y, Y_te = train_test_split(X, Y, test_size=0.2, train_size=0.8)\n",
    "X_tr, X_dev, Y_tr, Y_dev = train_test_split(X, Y, test_size=0.25, train_size=0.75)"
   ]
  },
  {
   "cell_type": "code",
   "execution_count": 37,
   "metadata": {},
   "outputs": [
    {
     "name": "stdout",
     "output_type": "stream",
     "text": [
      "(202, 113)\n",
      "(202,)\n"
     ]
    }
   ],
   "source": [
    "print(X_dev.shape)\n",
    "print(Y_dev.shape)"
   ]
  },
  {
   "cell_type": "code",
   "execution_count": null,
   "metadata": {
    "collapsed": true
   },
   "outputs": [],
   "source": [
    "4. Baseline"
   ]
  },
  {
   "cell_type": "code",
   "execution_count": 38,
   "metadata": {},
   "outputs": [
    {
     "name": "stdout",
     "output_type": "stream",
     "text": [
      "baseline RMSE 1.5057645010669056\n"
     ]
    }
   ],
   "source": [
    "# Baseline\n",
    "from sklearn.tree import DecisionTreeClassifier\n",
    "\n",
    "dt_model = DecisionTreeClassifier(max_depth = 15).fit(X_tr, Y_tr)\n",
    "pred = dt_model.predict(X_te)\n",
    "N = Y_te.size\n",
    "baseline_error = np.sqrt((np.sum((pred - Y_te)**2))/N)\n",
    "print(\"baseline RMSE\", baseline_error)\n"
   ]
  },
  {
   "cell_type": "markdown",
   "metadata": {},
   "source": [
    "5. Hyperparameter tuning:\n",
    "\n",
    "We can use cross-validation to tune hyperparameters. Development data set is used to evaluate the performance\n",
    "of the model. The hyperarameter tuning method is to do cross-validation for many possible values of a pameter\n",
    "and chooing the best value with lowest RMSE. The following is the \f",
    "gure for the parameter number of estimator\n",
    "tuning.\n",
    "Other"
   ]
  },
  {
   "cell_type": "code",
   "execution_count": 39,
   "metadata": {},
   "outputs": [
    {
     "name": "stdout",
     "output_type": "stream",
     "text": [
      "learning_rate =  0.03\n"
     ]
    },
    {
     "data": {
      "image/png": "[encoded data removed]",
      "text/plain": [
       "<matplotlib.figure.Figure at 0x10b496b38>"
      ]
     },
     "metadata": {},
     "output_type": "display_data"
    }
   ],
   "source": [
    "# use cross validation to tune parameters \n",
    "# learning_rate\n",
    "import xgboost as xgb\n",
    "import warnings\n",
    "warnings.filterwarnings(\"ignore\")\n",
    "\n",
    "learning_rate = [0.01, 0.02, 0.03, 0.05, 0.08, 0.1, 0.2, 0.3, 0.4, 0.5]\n",
    "err = []\n",
    "lr_b = None\n",
    "err_m = float('inf')\n",
    "for lr in learning_rate:\n",
    "    model = xgb.XGBClassifier(learning_rate =lr,n_estimators=1000, max_depth=150,\n",
    "            min_child_weight=50, gamma=0.2,subsample=0.8, colsample_bytree=0.4, objective= 'multi:softmax',\n",
    "            nthread=4, scale_pos_weight=50, seed=27)\n",
    "    tr_model = model.fit(X_tr, Y_tr)\n",
    "    pred = tr_model.predict(X_dev)\n",
    "    Y_dev_mat = Y_dev.as_matrix()\n",
    "    N = Y_dev.size\n",
    "    error = np.sqrt((np.sum((pred - Y_dev_mat)**2))/N)\n",
    "    err.append(error)\n",
    "    if error < err_m:\n",
    "        err_m = error\n",
    "        lr_b = lr\n",
    "plt.plot(learning_rate, err, 'r-')\n",
    "plt.ylabel('Error')\n",
    "plt.xlabel('learning_rate')\n",
    "plt.title('Error VS learning_rate')\n",
    "print(\"learning_rate = \", lr_b)\n",
    "plt.show()\n"
   ]
  },
  {
   "cell_type": "code",
   "execution_count": 40,
   "metadata": {},
   "outputs": [
    {
     "name": "stdout",
     "output_type": "stream",
     "text": [
      "n_estimators =  400\n"
     ]
    },
    {
     "data": {
      "image/png": "[encoded data removed]",
      "text/plain": [
       "<matplotlib.figure.Figure at 0x10b496908>"
      ]
     },
     "metadata": {},
     "output_type": "display_data"
    }
   ],
   "source": [
    "# use cross validation to tune parameters \n",
    "# n_estimators\n",
    "\n",
    "num_est = [10, 50, 80, 100, 200, 300, 400, 450, 500, 800, 1000, 1500]\n",
    "err = []\n",
    "est_b = None\n",
    "err_m = float('inf')\n",
    "\n",
    "for i in num_est:\n",
    "    model = xgb.XGBClassifier(learning_rate =0.1,\n",
    "             n_estimators=i, max_depth=150,\n",
    "             min_child_weight=50, gamma=0.2,\n",
    "             subsample=0.8, colsample_bytree=0.4,\n",
    "             objective= 'multi:softmax', nthread=4,\n",
    "             scale_pos_weight=50, seed=27)\n",
    "    tr_model = model.fit(X_tr, Y_tr)\n",
    "    pred = tr_model.predict(X_dev)\n",
    "    Y_dev_mat = Y_dev.as_matrix()\n",
    "    N = Y_dev.size\n",
    "    error = np.sqrt((np.sum((pred - Y_dev_mat)**2))/N)\n",
    "    err.append(error)\n",
    "    if error < err_m:\n",
    "        err_m = error\n",
    "        est_b = i\n",
    "plt.plot(num_est, err, 'r-')\n",
    "plt.ylabel('Error')\n",
    "plt.xlabel('n_estimators')\n",
    "plt.title('Error VS n_estimators')\n",
    "print(\"n_estimators = \", est_b)\n",
    "plt.show()\n"
   ]
  },
  {
   "cell_type": "code",
   "execution_count": 41,
   "metadata": {},
   "outputs": [
    {
     "name": "stdout",
     "output_type": "stream",
     "text": [
      "min_child_weight =  5\n"
     ]
    },
    {
     "data": {
      "image/png": "[encoded data removed]",
      "text/plain": [
       "<matplotlib.figure.Figure at 0x10bb5b588>"
      ]
     },
     "metadata": {},
     "output_type": "display_data"
    }
   ],
   "source": [
    "# use cross validation to tune parameters \n",
    "# min_child_weight\n",
    "\n",
    "min_child_weight = [3, 5, 10, 30, 40, 50, 55, 60, 80, 100, 120, 150, 180]\n",
    "err = []\n",
    "mcw_b = None\n",
    "err_m = float('inf')\n",
    "\n",
    "for mcw in min_child_weight:\n",
    "    model = xgb.XGBClassifier(learning_rate = lr_b,\n",
    "             n_estimators=est_b, max_depth=50,\n",
    "             min_child_weight=mcw, gamma=0.2,\n",
    "             subsample=0.8, colsample_bytree=0.4,\n",
    "             objective= 'multi:softmax', nthread=4,\n",
    "             scale_pos_weight=50, seed=27)\n",
    "    tr_model = model.fit(X_tr, Y_tr)\n",
    "    pred = tr_model.predict(X_dev)\n",
    "    Y_dev_mat = Y_dev.as_matrix()\n",
    "    N = Y_dev.size\n",
    "    error = np.sqrt((np.sum((pred - Y_dev_mat)**2))/N)\n",
    "    err.append(error)\n",
    "    if error < err_m:\n",
    "        err_m = error\n",
    "        mcw_b = mcw\n",
    "plt.plot(min_child_weight, err, 'r-')\n",
    "plt.ylabel('Error')\n",
    "plt.xlabel('min_child_weight')\n",
    "plt.title('Error VS min_child_weight')\n",
    "print(\"min_child_weight = \", mcw_b)\n",
    "plt.show()"
   ]
  },
  {
   "cell_type": "code",
   "execution_count": 42,
   "metadata": {},
   "outputs": [
    {
     "name": "stdout",
     "output_type": "stream",
     "text": [
      "gamma =  0.5\n"
     ]
    },
    {
     "data": {
      "image/png": "[encoded data removed]",
      "text/plain": [
       "<matplotlib.figure.Figure at 0x10b682a20>"
      ]
     },
     "metadata": {},
     "output_type": "display_data"
    }
   ],
   "source": [
    "# use cross validation to tune parameters \n",
    "# gamma\n",
    "\n",
    "gamma = [0.1, 0.2, 0.3, 0.4, 0.5, 0.6, 0.7, 0.8, 0.9]\n",
    "err = []\n",
    "gamma_b = None\n",
    "err_m = float('inf')\n",
    "for g in gamma:\n",
    "    model = xgb.XGBClassifier(learning_rate =0.1,\n",
    "             n_estimators=1000, max_depth=50,\n",
    "             min_child_weight=5, gamma=g,\n",
    "             subsample=0.8, colsample_bytree=0.4,\n",
    "             objective= 'multi:softmax', nthread=4,\n",
    "             scale_pos_weight=50, seed=27)\n",
    "    tr_model = model.fit(X_tr, Y_tr)\n",
    "    pred = tr_model.predict(X_dev)\n",
    "    Y_dev_mat = Y_dev.as_matrix()\n",
    "    N = Y_dev.size\n",
    "    error = np.sqrt((np.sum((pred - Y_dev_mat)**2))/N)\n",
    "    err.append(error)\n",
    "    if error < err_m:\n",
    "        err_m = error\n",
    "        gamma_b = g\n",
    "print('gamma = ', gamma_b)\n",
    "plt.plot(gamma, err, 'r-')\n",
    "plt.ylabel('Error')\n",
    "plt.xlabel('gamma')\n",
    "plt.title('Error VS gamma')\n",
    "plt.show()"
   ]
  },
  {
   "cell_type": "code",
   "execution_count": 43,
   "metadata": {},
   "outputs": [
    {
     "name": "stdout",
     "output_type": "stream",
     "text": [
      "colsample =  0.8\n"
     ]
    },
    {
     "data": {
      "image/png": "[encoded data removed]",
      "text/plain": [
       "<matplotlib.figure.Figure at 0x103e2e1d0>"
      ]
     },
     "metadata": {},
     "output_type": "display_data"
    }
   ],
   "source": [
    "# use cross validation to tune parameters \n",
    "# colsample_bytree\n",
    "\n",
    "import xgboost as xgb\n",
    "import warnings\n",
    "warnings.filterwarnings(\"ignore\")\n",
    "\n",
    "colsample_bytree = [0.1, 0.2, 0.3, 0.4, 0.5, 0.6, 0.7, 0.8, 0.9]\n",
    "err = []\n",
    "cbt_b = None\n",
    "err_m = float('inf')\n",
    "\n",
    "for cbt in colsample_bytree:\n",
    "    model = xgb.XGBClassifier(learning_rate =lr_b,\n",
    "             n_estimators=est_b, max_depth=150,\n",
    "             min_child_weight=mcw_b, gamma=gamma_b,\n",
    "             subsample=0.8, colsample_bytree=cbt,\n",
    "             objective= 'multi:softmax', nthread=4,\n",
    "             scale_pos_weight=50, seed=27)\n",
    "    tr_model = model.fit(X_tr, Y_tr)\n",
    "    pred = tr_model.predict(X_dev)\n",
    "    Y_dev_mat = Y_dev.as_matrix()\n",
    "    N = Y_dev.size\n",
    "    error = np.sqrt((np.sum((pred - Y_dev_mat)**2))/N)\n",
    "    err.append(error)\n",
    "    if error < err_m:\n",
    "        err_m = error\n",
    "        cbt_b = cbt\n",
    "print('colsample = ', cbt_b)\n",
    "plt.plot(colsample_bytree, err, 'r-')\n",
    "plt.ylabel('Error')\n",
    "plt.xlabel('colsample_bytree')\n",
    "plt.title('Error VS colsample_bytree')\n",
    "plt.show()\n"
   ]
  },
  {
   "cell_type": "code",
   "execution_count": null,
   "metadata": {
    "collapsed": true
   },
   "outputs": [],
   "source": [
    "6. Modeling"
   ]
  },
  {
   "cell_type": "code",
   "execution_count": 44,
   "metadata": {},
   "outputs": [
    {
     "name": "stdout",
     "output_type": "stream",
     "text": [
      "[5. 4. 5. 4. 4. 3. 3. 5. 5. 4. 5. 5. 5. 5. 4. 3. 4. 3. 4. 5. 2. 4. 5. 4.\n",
      " 5. 5. 3. 4. 4. 3. 4. 4. 3. 4. 5. 5. 5. 5. 3. 4. 5. 5. 5. 5. 4. 3. 5. 5.\n",
      " 5. 5. 5. 5. 2. 5. 5. 5. 4. 3. 5. 5. 5. 5. 5. 5. 5. 5. 4. 4. 5. 4. 4. 4.\n",
      " 4. 3. 5. 4. 5. 5. 3. 4. 5. 3. 5. 5. 5. 4. 4. 4. 5. 4. 4. 5. 3. 4. 3. 5.\n",
      " 3. 2. 5. 5. 5. 4. 4. 4. 4. 4. 5. 5. 4. 4. 5. 4. 3. 4. 4. 4. 4. 4. 5. 5.\n",
      " 5. 5. 5. 4. 4. 3. 3. 4. 5. 4. 4. 4. 5. 4. 3. 5. 4. 3. 4. 5. 3. 5. 5. 5.\n",
      " 3. 4. 5. 5. 4. 5. 5. 4. 5. 4. 5. 3. 4. 5. 2. 3. 5. 5. 5. 5. 5. 3. 5. 5.\n",
      " 3. 5. 3. 4. 5. 1. 3. 3. 5. 3. 4. 5. 4. 5. 5. 5. 4. 4. 5. 5. 4. 2. 3. 5.\n",
      " 3. 5. 4. 5. 3. 5. 5. 5. 5. 5.]\n",
      "[5. 4. 5. 4. 5. 3. 3. 5. 5. 5. 5. 4. 5. 5. 5. 4. 4. 5. 2. 5. 2. 5. 5. 5.\n",
      " 5. 2. 2. 5. 3. 4. 5. 3. 5. 4. 5. 3. 4. 5. 3. 3. 3. 4. 3. 4. 4. 5. 4. 5.\n",
      " 3. 5. 5. 2. 3. 4. 5. 5. 2. 3. 5. 4. 4. 1. 5. 5. 4. 4. 4. 4. 5. 3. 1. 2.\n",
      " 3. 2. 4. 5. 5. 5. 4. 4. 5. 3. 3. 5. 4. 4. 5. 4. 5. 5. 3. 4. 3. 3. 1. 1.\n",
      " 3. 4. 4. 5. 5. 4. 4. 1. 5. 3. 4. 5. 4. 5. 5. 4. 5. 3. 3. 3. 3. 4. 3. 5.\n",
      " 5. 4. 5. 4. 2. 4. 2. 4. 5. 5. 4. 5. 3. 4. 3. 2. 4. 1. 2. 4. 2. 4. 4. 2.\n",
      " 4. 4. 4. 5. 4. 3. 4. 4. 4. 5. 5. 5. 2. 5. 2. 3. 5. 4. 3. 5. 5. 4. 5. 4.\n",
      " 4. 5. 3. 4. 4. 5. 3. 3. 1. 5. 2. 5. 1. 5. 5. 3. 5. 3. 5. 4. 5. 3. 4. 5.\n",
      " 3. 5. 3. 3. 3. 4. 2. 5. 4. 5.]\n",
      "size of N =  202\n",
      "RMSE =  1.252719813323422\n"
     ]
    }
   ],
   "source": [
    "\n",
    "import xgboost as xgb\n",
    "import warnings\n",
    "warnings.filterwarnings(\"ignore\")\n",
    "model = xgb.XGBClassifier(learning_rate =lr_b,\n",
    "             n_estimators=est_b, max_depth=50,\n",
    "             min_child_weight=mcw_b, gamma=gamma_b,\n",
    "             subsample=0.8, colsample_bytree=cbt,\n",
    "             objective= 'multi:softmax', nthread=4,\n",
    "             scale_pos_weight=50, seed=27)\n",
    "tr_model = model.fit(X_tr, Y_tr)\n",
    "pred = tr_model.predict(X_te)\n",
    "Y_te_mat = Y_te.as_matrix()\n",
    "print(pred)\n",
    "print(Y_te_mat)\n",
    "N = Y_te.size\n",
    "print(\"size of N = \", N)\n",
    "error = np.sqrt((np.sum((pred - Y_te_mat)**2))/N)\n",
    "print(\"RMSE = \", error)"
   ]
  },
  {
   "cell_type": "markdown",
   "metadata": {},
   "source": [
    "We train the model with training data and test the model performance with test data set. The RMSE XGBoost\n",
    "got is about 1.25. The RMSE for baseline is about 1.5057645010669056.  Our approach got more than 16.9% lower than the baseline decision tree classifier"
   ]
  },
  {
   "cell_type": "markdown",
   "metadata": {},
   "source": [
    "6. Try our approach in development data\n"
   ]
  },
  {
   "cell_type": "code",
   "execution_count": 45,
   "metadata": {},
   "outputs": [
    {
     "name": "stdout",
     "output_type": "stream",
     "text": [
      "development data prediction =  [5. 5. 3. 3. 5. 4. 5. 5. 5. 4. 3. 5. 5. 5. 5. 5. 3. 5. 4. 5. 4. 5. 5. 4.\n",
      " 3. 5. 4. 5. 4. 5. 4. 5. 4. 5. 3. 5. 5. 4. 4. 5. 5. 5. 5. 5. 5. 2. 3. 4.\n",
      " 5. 5. 5. 5. 3. 5. 5. 5. 5. 5. 3. 5. 5. 4. 5. 5. 2. 5. 5. 5. 4. 5. 2. 3.\n",
      " 2. 4. 4. 4. 5. 5. 4. 3. 5. 4. 5. 5. 5. 5. 5. 2. 5. 4. 5. 5. 1. 5. 3. 4.\n",
      " 4. 5. 5. 5. 4. 5. 5. 3. 5. 3. 4. 4. 4. 5. 5. 5. 5. 5. 5. 3. 3. 3. 3. 5.\n",
      " 3. 3. 3. 4. 3. 5. 5. 4. 5. 5. 2. 3. 4. 5. 5. 5. 4. 4. 4. 3. 5. 5. 5. 4.\n",
      " 5. 3. 4. 5. 5. 4. 5. 2. 5. 5. 5. 3. 4. 5. 4. 5. 3. 3. 4. 3. 4. 3. 5. 5.\n",
      " 4. 5. 5. 5. 3. 5. 5. 5. 3. 5. 4. 4. 5. 5. 5. 5. 4. 5. 4. 5. 4. 4. 4. 4.\n",
      " 4. 5. 5. 5. 4. 5. 5. 5. 3. 3.]\n",
      "development ground truth =  [5. 5. 4. 3. 5. 4. 2. 5. 2. 5. 4. 4. 3. 4. 4. 5. 3. 1. 3. 5. 5. 5. 4. 4.\n",
      " 3. 4. 4. 5. 4. 4. 3. 5. 4. 4. 3. 5. 2. 5. 4. 5. 3. 5. 4. 3. 4. 3. 3. 1.\n",
      " 3. 5. 4. 3. 5. 3. 5. 5. 4. 2. 3. 5. 5. 4. 4. 4. 2. 5. 5. 2. 2. 3. 3. 3.\n",
      " 3. 4. 5. 5. 4. 3. 3. 3. 5. 4. 5. 5. 5. 5. 1. 2. 5. 2. 5. 2. 1. 4. 3. 5.\n",
      " 3. 4. 5. 5. 4. 3. 5. 5. 5. 4. 4. 4. 5. 5. 2. 4. 4. 5. 4. 3. 2. 1. 5. 2.\n",
      " 5. 3. 3. 3. 4. 5. 5. 5. 3. 1. 2. 3. 2. 4. 4. 4. 5. 2. 4. 3. 4. 5. 5. 3.\n",
      " 4. 3. 3. 5. 4. 4. 4. 2. 4. 3. 1. 5. 4. 4. 1. 3. 5. 5. 1. 3. 5. 1. 3. 5.\n",
      " 3. 4. 3. 4. 3. 3. 3. 4. 3. 5. 4. 3. 3. 4. 3. 1. 5. 4. 5. 3. 5. 4. 2. 4.\n",
      " 5. 5. 5. 5. 3. 3. 4. 5. 3. 1.]\n"
     ]
    }
   ],
   "source": [
    "pred_dev = tr_model.predict(X_dev)\n",
    "Y_dev_mat = Y_dev.as_matrix()\n",
    "print(\"development data prediction = \", pred_dev)\n",
    "print(\"development ground truth = \", Y_dev_mat)"
   ]
  },
  {
   "cell_type": "code",
   "execution_count": null,
   "metadata": {
    "collapsed": true
   },
   "outputs": [],
   "source": [
    "We can find that\n",
    "the algorithm has predict the 1st, 2nd, 4th, 5th dev example correctly \n",
    "but got wrong prediction for the 3rd, 7th, 9th dev example. \n",
    "There are 2 main reason which may cause inaccuracy. \n",
    "Firstly, there are too many features in raw data, a lot of them are indictive, \n",
    "which may cause too much noise. Secondly, we fill missing data with most\n",
    "frequent data, which may also bring inaccuracy. \n",
    "We should have better way to reduce data noise and fill missing\n",
    "data."
   ]
  }
 ],
 "metadata": {
  "kernelspec": {
   "display_name": "Python 3",
   "language": "python",
   "name": "python3"
  },
  "language_info": {
   "codemirror_mode": {
    "name": "ipython",
    "version": 3
   },
   "file_extension": ".py",
   "mimetype": "text/x-python",
   "name": "python",
   "nbconvert_exporter": "python",
   "pygments_lexer": "ipython3",
   "version": "3.6.3"
  }
 },
 "nbformat": 4,
 "nbformat_minor": 2
}
